{
 "cells": [
  {
   "cell_type": "code",
   "execution_count": 3,
   "metadata": {
    "collapsed": true
   },
   "outputs": [],
   "source": [
    "import pandas as pd\n",
    "#import plotly.plotly as py\n",
    "#from plotly.graph_objs import *\n",
    "df1 = pd.read_csv(\"pointcloud2.csv\")\n",
    "#print(df1)"
   ]
  },
  {
   "cell_type": "code",
   "execution_count": 4,
   "metadata": {},
   "outputs": [
    {
     "data": {
      "text/html": [
       "<div>\n",
       "<style>\n",
       "    .dataframe thead tr:only-child th {\n",
       "        text-align: right;\n",
       "    }\n",
       "\n",
       "    .dataframe thead th {\n",
       "        text-align: left;\n",
       "    }\n",
       "\n",
       "    .dataframe tbody tr th {\n",
       "        vertical-align: top;\n",
       "    }\n",
       "</style>\n",
       "<table border=\"1\" class=\"dataframe\">\n",
       "  <thead>\n",
       "    <tr style=\"text-align: right;\">\n",
       "      <th></th>\n",
       "      <th>latitude</th>\n",
       "      <th>longitude</th>\n",
       "      <th>altitude</th>\n",
       "      <th>intensity</th>\n",
       "    </tr>\n",
       "  </thead>\n",
       "  <tbody>\n",
       "    <tr>\n",
       "      <th>0</th>\n",
       "      <td>48.85886</td>\n",
       "      <td>2.299520</td>\n",
       "      <td>76.712226</td>\n",
       "      <td>29</td>\n",
       "    </tr>\n",
       "    <tr>\n",
       "      <th>1</th>\n",
       "      <td>48.85886</td>\n",
       "      <td>2.299524</td>\n",
       "      <td>76.724967</td>\n",
       "      <td>18</td>\n",
       "    </tr>\n",
       "    <tr>\n",
       "      <th>2</th>\n",
       "      <td>48.85886</td>\n",
       "      <td>2.299527</td>\n",
       "      <td>76.718664</td>\n",
       "      <td>11</td>\n",
       "    </tr>\n",
       "    <tr>\n",
       "      <th>3</th>\n",
       "      <td>48.85886</td>\n",
       "      <td>2.299529</td>\n",
       "      <td>76.718999</td>\n",
       "      <td>38</td>\n",
       "    </tr>\n",
       "    <tr>\n",
       "      <th>4</th>\n",
       "      <td>48.85886</td>\n",
       "      <td>2.299531</td>\n",
       "      <td>76.722693</td>\n",
       "      <td>13</td>\n",
       "    </tr>\n",
       "  </tbody>\n",
       "</table>\n",
       "</div>"
      ],
      "text/plain": [
       "   latitude  longitude   altitude  intensity\n",
       "0  48.85886   2.299520  76.712226         29\n",
       "1  48.85886   2.299524  76.724967         18\n",
       "2  48.85886   2.299527  76.718664         11\n",
       "3  48.85886   2.299529  76.718999         38\n",
       "4  48.85886   2.299531  76.722693         13"
      ]
     },
     "execution_count": 4,
     "metadata": {},
     "output_type": "execute_result"
    }
   ],
   "source": [
    "df1.head()"
   ]
  },
  {
   "cell_type": "code",
   "execution_count": 5,
   "metadata": {},
   "outputs": [
    {
     "data": {
      "text/html": [
       "<div>\n",
       "<style>\n",
       "    .dataframe thead tr:only-child th {\n",
       "        text-align: right;\n",
       "    }\n",
       "\n",
       "    .dataframe thead th {\n",
       "        text-align: left;\n",
       "    }\n",
       "\n",
       "    .dataframe tbody tr th {\n",
       "        vertical-align: top;\n",
       "    }\n",
       "</style>\n",
       "<table border=\"1\" class=\"dataframe\">\n",
       "  <thead>\n",
       "    <tr style=\"text-align: right;\">\n",
       "      <th></th>\n",
       "      <th>latitude</th>\n",
       "      <th>longitude</th>\n",
       "      <th>altitude</th>\n",
       "      <th>intensity</th>\n",
       "    </tr>\n",
       "  </thead>\n",
       "  <tbody>\n",
       "    <tr>\n",
       "      <th>count</th>\n",
       "      <td>1.046232e+06</td>\n",
       "      <td>1.046232e+06</td>\n",
       "      <td>1.046232e+06</td>\n",
       "      <td>1.046232e+06</td>\n",
       "    </tr>\n",
       "    <tr>\n",
       "      <th>mean</th>\n",
       "      <td>4.885883e+01</td>\n",
       "      <td>2.299287e+00</td>\n",
       "      <td>7.903778e+01</td>\n",
       "      <td>2.769370e+01</td>\n",
       "    </tr>\n",
       "    <tr>\n",
       "      <th>std</th>\n",
       "      <td>5.419245e-05</td>\n",
       "      <td>1.178129e-04</td>\n",
       "      <td>3.048668e+00</td>\n",
       "      <td>2.993129e+01</td>\n",
       "    </tr>\n",
       "    <tr>\n",
       "      <th>min</th>\n",
       "      <td>4.885861e+01</td>\n",
       "      <td>2.298957e+00</td>\n",
       "      <td>7.372273e+01</td>\n",
       "      <td>0.000000e+00</td>\n",
       "    </tr>\n",
       "    <tr>\n",
       "      <th>25%</th>\n",
       "      <td>4.885879e+01</td>\n",
       "      <td>2.299191e+00</td>\n",
       "      <td>7.679548e+01</td>\n",
       "      <td>6.000000e+00</td>\n",
       "    </tr>\n",
       "    <tr>\n",
       "      <th>50%</th>\n",
       "      <td>4.885883e+01</td>\n",
       "      <td>2.299284e+00</td>\n",
       "      <td>7.783335e+01</td>\n",
       "      <td>1.400000e+01</td>\n",
       "    </tr>\n",
       "    <tr>\n",
       "      <th>75%</th>\n",
       "      <td>4.885887e+01</td>\n",
       "      <td>2.299380e+00</td>\n",
       "      <td>8.020734e+01</td>\n",
       "      <td>4.500000e+01</td>\n",
       "    </tr>\n",
       "    <tr>\n",
       "      <th>max</th>\n",
       "      <td>4.885903e+01</td>\n",
       "      <td>2.299580e+00</td>\n",
       "      <td>9.837263e+01</td>\n",
       "      <td>1.970000e+02</td>\n",
       "    </tr>\n",
       "  </tbody>\n",
       "</table>\n",
       "</div>"
      ],
      "text/plain": [
       "           latitude     longitude      altitude     intensity\n",
       "count  1.046232e+06  1.046232e+06  1.046232e+06  1.046232e+06\n",
       "mean   4.885883e+01  2.299287e+00  7.903778e+01  2.769370e+01\n",
       "std    5.419245e-05  1.178129e-04  3.048668e+00  2.993129e+01\n",
       "min    4.885861e+01  2.298957e+00  7.372273e+01  0.000000e+00\n",
       "25%    4.885879e+01  2.299191e+00  7.679548e+01  6.000000e+00\n",
       "50%    4.885883e+01  2.299284e+00  7.783335e+01  1.400000e+01\n",
       "75%    4.885887e+01  2.299380e+00  8.020734e+01  4.500000e+01\n",
       "max    4.885903e+01  2.299580e+00  9.837263e+01  1.970000e+02"
      ]
     },
     "execution_count": 5,
     "metadata": {},
     "output_type": "execute_result"
    }
   ],
   "source": [
    "df1.describe()"
   ]
  },
  {
   "cell_type": "code",
   "execution_count": 6,
   "metadata": {},
   "outputs": [
    {
     "data": {
      "text/plain": [
       "<matplotlib.axes._subplots.AxesSubplot at 0x1107cde80>"
      ]
     },
     "execution_count": 6,
     "metadata": {},
     "output_type": "execute_result"
    }
   ],
   "source": [
    "df1.plot()"
   ]
  },
  {
   "cell_type": "code",
   "execution_count": null,
   "metadata": {
    "collapsed": true
   },
   "outputs": [],
   "source": []
  }
 ],
 "metadata": {
  "kernelspec": {
   "display_name": "Python 3",
   "language": "python",
   "name": "python3"
  },
  "language_info": {
   "codemirror_mode": {
    "name": "ipython",
    "version": 3
   },
   "file_extension": ".py",
   "mimetype": "text/x-python",
   "name": "python",
   "nbconvert_exporter": "python",
   "pygments_lexer": "ipython3",
   "version": "3.6.3"
  }
 },
 "nbformat": 4,
 "nbformat_minor": 2
}
